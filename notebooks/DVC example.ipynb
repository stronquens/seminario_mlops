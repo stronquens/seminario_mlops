{
 "cells": [
  {
   "cell_type": "markdown",
   "metadata": {},
   "source": [
    "<center><h1>DVC Example</h1></center>"
   ]
  },
  {
   "cell_type": "code",
   "execution_count": 1,
   "metadata": {},
   "outputs": [],
   "source": [
    "import os\n",
    "import warnings\n",
    "import sys\n",
    "\n",
    "import pandas as pd\n",
    "import numpy as np\n",
    "from itertools import cycle\n",
    "import matplotlib.pyplot as plt\n",
    "from sklearn.metrics import mean_squared_error, mean_absolute_error, r2_score\n",
    "from sklearn.model_selection import train_test_split\n",
    "from sklearn.linear_model import ElasticNet\n",
    "from sklearn.linear_model import lasso_path, enet_path\n",
    "from sklearn import datasets"
   ]
  },
  {
   "cell_type": "code",
   "execution_count": 10,
   "metadata": {},
   "outputs": [],
   "source": [
    "# Load Diabetes datasets\n",
    "# diabetes = datasets.load_diabetes()\n",
    "# X = diabetes.data\n",
    "# y = diabetes.target\n",
    "\n",
    "# # Create pandas DataFrame for sklearn ElasticNet linear_model\n",
    "# Y = np.array([y]).transpose()\n",
    "# d = np.concatenate((X, Y), axis=1)\n",
    "# cols = diabetes.feature_names + ['progression']\n",
    "# data = pd.DataFrame(d, columns=cols)\n",
    "\n",
    "# data.to_csv('dataframe.csv', index=False) "
   ]
  },
  {
   "cell_type": "code",
   "execution_count": 26,
   "metadata": {},
   "outputs": [],
   "source": [
    "# data = pd.read_csv('./dvc_proyect/data/dataframe.csv')  \n",
    "# data"
   ]
  },
  {
   "cell_type": "code",
   "execution_count": 17,
   "metadata": {},
   "outputs": [],
   "source": [
    "# data.iloc[:100,:].to_csv('./dvc_proyect/data/dataframe.csv', index=False) "
   ]
  },
  {
   "cell_type": "code",
   "execution_count": 24,
   "metadata": {},
   "outputs": [],
   "source": [
    "# import dvc.api\n",
    "\n",
    "# # dataset en el interior del repo git\n",
    "# path=\"data/dataframe.csv\" \n",
    "# # ubicación del repo git (puede ser remoto)\n",
    "# repo='C:/Users/agomis/Desktop/Seminario MLOps/notebooks/dvc_proyect'\n",
    "# # tag o versión del dataset\n",
    "# version='v2'\n",
    "\n",
    "# data_url = dvc.api.get_url(\n",
    "# path=path,\n",
    "# repo=repo,\n",
    "# rev=version\n",
    "# )\n",
    "\n",
    "# data = pd.read_csv(data_url, sep=\",\")\n",
    "# data"
   ]
  },
  {
   "cell_type": "code",
   "execution_count": 25,
   "metadata": {},
   "outputs": [
    {
     "name": "stdout",
     "output_type": "stream",
     "text": [
      "Elasticnet model (alpha=0.010000, l1_ratio=0.750000):\n",
      "  RMSE: 59.455039015845344\n",
      "  MAE: 49.10962891183636\n",
      "  R2: 0.19224432796338908\n"
     ]
    }
   ],
   "source": [
    "# Evaluate metrics\n",
    "def eval_metrics(actual, pred):\n",
    "    rmse = np.sqrt(mean_squared_error(actual, pred))\n",
    "    mae = mean_absolute_error(actual, pred)\n",
    "    r2 = r2_score(actual, pred)\n",
    "    return rmse, mae, r2\n",
    "\n",
    "\n",
    "warnings.filterwarnings(\"ignore\")\n",
    "np.random.seed(40)\n",
    "\n",
    "# Split the data into training and test sets. (0.75, 0.25) split.\n",
    "train, test = train_test_split(data)\n",
    "\n",
    "# The predicted column is \"progression\" which is a quantitative measure of disease progression one year after baseline\n",
    "train_x = train.drop([\"progression\"], axis=1)\n",
    "test_x = test.drop([\"progression\"], axis=1)\n",
    "train_y = train[[\"progression\"]]\n",
    "test_y = test[[\"progression\"]]\n",
    "\n",
    "alpha = float(0.01) if len(sys.argv) > 1 else 0.05\n",
    "l1_ratio = float(0.75) if len(sys.argv) > 2 else 0.05\n",
    "\n",
    "# Run ElasticNet\n",
    "lr = ElasticNet(alpha=alpha, l1_ratio=l1_ratio, random_state=42)\n",
    "lr.fit(train_x, train_y)\n",
    "predicted_qualities = lr.predict(test_x)\n",
    "(rmse, mae, r2) = eval_metrics(test_y, predicted_qualities)\n",
    "\n",
    "# Print out ElasticNet model metrics\n",
    "print(\"Elasticnet model (alpha=%f, l1_ratio=%f):\" % (alpha, l1_ratio))\n",
    "print(\"  RMSE: %s\" % rmse)\n",
    "print(\"  MAE: %s\" % mae)\n",
    "print(\"  R2: %s\" % r2)\n",
    "\n"
   ]
  },
  {
   "cell_type": "code",
   "execution_count": null,
   "metadata": {},
   "outputs": [],
   "source": []
  }
 ],
 "metadata": {
  "kernelspec": {
   "display_name": "Python 3",
   "language": "python",
   "name": "python3"
  },
  "language_info": {
   "codemirror_mode": {
    "name": "ipython",
    "version": 3
   },
   "file_extension": ".py",
   "mimetype": "text/x-python",
   "name": "python",
   "nbconvert_exporter": "python",
   "pygments_lexer": "ipython3",
   "version": "3.8.8"
  }
 },
 "nbformat": 4,
 "nbformat_minor": 2
}
