{
 "cells": [
  {
   "cell_type": "markdown",
   "id": "d913c1df",
   "metadata": {},
   "source": [
    "# MLFlow Hyper Param Experiment"
   ]
  },
  {
   "cell_type": "code",
   "execution_count": null,
   "id": "bb25a3e7",
   "metadata": {},
   "outputs": [],
   "source": [
    "import pandas as pd \n",
    "import numpy as np \n",
    "from sklearn.model_selection import train_test_split\n",
    "from sklearn.metrics import mean_squared_error, mean_absolute_error, r2_score\n",
    "from sklearn.linear_model import ElasticNet\n",
    "from sklearn.datasets import load_boston\n",
    "\n",
    "import mlflow\n",
    "import mlflow.sklearn\n",
    "\n",
    "# mlflow.set_tracking_uri(\"http://mlflow:5000\")\n",
    "# mlflow.set_experiment(\"titanic\")"
   ]
  },
  {
   "cell_type": "code",
   "execution_count": null,
   "id": "93a33700",
   "metadata": {},
   "outputs": [],
   "source": [
    "data = load_boston()\n",
    "df = pd.DataFrame(data.data, columns=data.feature_names)\n",
    "\n",
    "xtest,xtrain,ytest,ytrain = train_test_split(df.drop(['CRIM'],axis=1), df['CRIM'])\n",
    "\n",
    "en = ElasticNet()"
   ]
  },
  {
   "cell_type": "code",
   "execution_count": 2,
   "id": "723dd219",
   "metadata": {},
   "outputs": [
    {
     "data": {
      "text/plain": [
       "'hellow'"
      ]
     },
     "execution_count": 2,
     "metadata": {},
     "output_type": "execute_result"
    }
   ],
   "source": [
    "def eval_metrics(actual, pred):\n",
    "    rmse = np.sqrt(mean_squared_error(actual, pred))\n",
    "    mae = mean_absolute_error(actual, pred)\n",
    "    r2 = r2_score(actual, pred)\n",
    "    return rmse, mae, r2\n",
    "\n",
    "def train(alpha,l1_ratio):\n",
    "    with mlflow.start_run():\n",
    "            lr = ElasticNet(alpha=alpha, l1_ratio=l1_ratio)\n",
    "            lr.fit(xtrain, ytrain)\n",
    "\n",
    "            predicted_qualities = lr.predict(xtest)\n",
    "\n",
    "            (rmse, mae, r2) = eval_metrics(ytest, predicted_qualities)\n",
    "\n",
    "            print(\"Elasticnet model (alpha=%f, l1_ratio=%f):\" % (alpha, l1_ratio))\n",
    "            print(\"  RMSE: %s\" % rmse)\n",
    "            print(\"  MAE: %s\" % mae)\n",
    "            print(\"  R2: %s\" % r2)\n",
    "\n",
    "            mlflow.log_param(\"alpha\", alpha)\n",
    "            mlflow.log_param(\"l1_ratio\", l1_ratio)\n",
    "            mlflow.log_metric(\"rmse\", rmse)\n",
    "            mlflow.log_metric(\"r2\", r2)\n",
    "            mlflow.log_metric(\"mae\", mae)\n",
    "\n",
    "            mlflow.sklearn.log_model(lr, \"model\")\n"
   ]
  },
  {
   "cell_type": "code",
   "execution_count": null,
   "id": "2caad61a",
   "metadata": {},
   "outputs": [],
   "source": [
    "alpha = np.arange(0,5,0.1)\n",
    "l1_ratio = 0.5\n",
    "\n",
    "for a in alpha:\n",
    "    train(a,l1_ratio)"
   ]
  },
  {
   "cell_type": "code",
   "execution_count": null,
   "id": "9764276f",
   "metadata": {},
   "outputs": [],
   "source": [
    "# metrics.mae < 2.51 and metrics.r2 > 0.36"
   ]
  }
 ],
 "metadata": {
  "kernelspec": {
   "display_name": "Python 3",
   "language": "python",
   "name": "python3"
  },
  "language_info": {
   "codemirror_mode": {
    "name": "ipython",
    "version": 3
   },
   "file_extension": ".py",
   "mimetype": "text/x-python",
   "name": "python",
   "nbconvert_exporter": "python",
   "pygments_lexer": "ipython3",
   "version": "3.8.8"
  }
 },
 "nbformat": 4,
 "nbformat_minor": 5
}
